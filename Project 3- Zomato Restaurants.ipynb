{
 "cells": [
  {
   "cell_type": "markdown",
   "id": "4f7a74fa",
   "metadata": {},
   "source": [
    "# Zomato Restaurant Dataset "
   ]
  },
  {
   "cell_type": "code",
   "execution_count": 1,
   "id": "731dbce6",
   "metadata": {},
   "outputs": [],
   "source": [
    "import numpy as np          # import libraries \n",
    "import pandas as pd"
   ]
  },
  {
   "cell_type": "code",
   "execution_count": 2,
   "id": "29e8240c",
   "metadata": {},
   "outputs": [],
   "source": [
    "data= pd.read_csv('zomato.csv')     # import dataset"
   ]
  },
  {
   "cell_type": "code",
   "execution_count": 3,
   "id": "1e3d20d6",
   "metadata": {},
   "outputs": [
    {
     "data": {
      "text/html": [
       "<div>\n",
       "<style scoped>\n",
       "    .dataframe tbody tr th:only-of-type {\n",
       "        vertical-align: middle;\n",
       "    }\n",
       "\n",
       "    .dataframe tbody tr th {\n",
       "        vertical-align: top;\n",
       "    }\n",
       "\n",
       "    .dataframe thead th {\n",
       "        text-align: right;\n",
       "    }\n",
       "</style>\n",
       "<table border=\"1\" class=\"dataframe\">\n",
       "  <thead>\n",
       "    <tr style=\"text-align: right;\">\n",
       "      <th></th>\n",
       "      <th>Unnamed: 0</th>\n",
       "      <th>Unnamed: 0.1</th>\n",
       "      <th>restaurant name</th>\n",
       "      <th>restaurant type</th>\n",
       "      <th>rate (out of 5)</th>\n",
       "      <th>num of ratings</th>\n",
       "      <th>avg cost (two people)</th>\n",
       "      <th>online_order</th>\n",
       "      <th>table booking</th>\n",
       "      <th>cuisines type</th>\n",
       "      <th>area</th>\n",
       "      <th>local address</th>\n",
       "    </tr>\n",
       "  </thead>\n",
       "  <tbody>\n",
       "    <tr>\n",
       "      <th>0</th>\n",
       "      <td>0</td>\n",
       "      <td>0</td>\n",
       "      <td>#FeelTheROLL</td>\n",
       "      <td>Quick Bites</td>\n",
       "      <td>3.4</td>\n",
       "      <td>7</td>\n",
       "      <td>200.0</td>\n",
       "      <td>No</td>\n",
       "      <td>No</td>\n",
       "      <td>Fast Food</td>\n",
       "      <td>Bellandur</td>\n",
       "      <td>Bellandur</td>\n",
       "    </tr>\n",
       "    <tr>\n",
       "      <th>1</th>\n",
       "      <td>1</td>\n",
       "      <td>1</td>\n",
       "      <td>#L-81 Cafe</td>\n",
       "      <td>Quick Bites</td>\n",
       "      <td>3.9</td>\n",
       "      <td>48</td>\n",
       "      <td>400.0</td>\n",
       "      <td>Yes</td>\n",
       "      <td>No</td>\n",
       "      <td>Fast Food, Beverages</td>\n",
       "      <td>Byresandra,Tavarekere,Madiwala</td>\n",
       "      <td>HSR</td>\n",
       "    </tr>\n",
       "    <tr>\n",
       "      <th>2</th>\n",
       "      <td>2</td>\n",
       "      <td>2</td>\n",
       "      <td>#refuel</td>\n",
       "      <td>Cafe</td>\n",
       "      <td>3.7</td>\n",
       "      <td>37</td>\n",
       "      <td>400.0</td>\n",
       "      <td>Yes</td>\n",
       "      <td>No</td>\n",
       "      <td>Cafe, Beverages</td>\n",
       "      <td>Bannerghatta Road</td>\n",
       "      <td>Bannerghatta Road</td>\n",
       "    </tr>\n",
       "    <tr>\n",
       "      <th>3</th>\n",
       "      <td>3</td>\n",
       "      <td>3</td>\n",
       "      <td>'@ Biryani Central</td>\n",
       "      <td>Casual Dining</td>\n",
       "      <td>2.7</td>\n",
       "      <td>135</td>\n",
       "      <td>550.0</td>\n",
       "      <td>Yes</td>\n",
       "      <td>No</td>\n",
       "      <td>Biryani, Mughlai, Chinese</td>\n",
       "      <td>Marathahalli</td>\n",
       "      <td>Marathahalli</td>\n",
       "    </tr>\n",
       "    <tr>\n",
       "      <th>4</th>\n",
       "      <td>4</td>\n",
       "      <td>4</td>\n",
       "      <td>'@ The Bbq</td>\n",
       "      <td>Casual Dining</td>\n",
       "      <td>2.8</td>\n",
       "      <td>40</td>\n",
       "      <td>700.0</td>\n",
       "      <td>Yes</td>\n",
       "      <td>No</td>\n",
       "      <td>BBQ, Continental, North Indian, Chinese, Bever...</td>\n",
       "      <td>Bellandur</td>\n",
       "      <td>Bellandur</td>\n",
       "    </tr>\n",
       "  </tbody>\n",
       "</table>\n",
       "</div>"
      ],
      "text/plain": [
       "   Unnamed: 0  Unnamed: 0.1     restaurant name restaurant type  \\\n",
       "0           0             0        #FeelTheROLL     Quick Bites   \n",
       "1           1             1          #L-81 Cafe     Quick Bites   \n",
       "2           2             2             #refuel            Cafe   \n",
       "3           3             3  '@ Biryani Central   Casual Dining   \n",
       "4           4             4          '@ The Bbq   Casual Dining   \n",
       "\n",
       "   rate (out of 5)  num of ratings  avg cost (two people) online_order  \\\n",
       "0              3.4               7                  200.0           No   \n",
       "1              3.9              48                  400.0          Yes   \n",
       "2              3.7              37                  400.0          Yes   \n",
       "3              2.7             135                  550.0          Yes   \n",
       "4              2.8              40                  700.0          Yes   \n",
       "\n",
       "  table booking                                      cuisines type  \\\n",
       "0            No                                          Fast Food   \n",
       "1            No                               Fast Food, Beverages   \n",
       "2            No                                    Cafe, Beverages   \n",
       "3            No                          Biryani, Mughlai, Chinese   \n",
       "4            No  BBQ, Continental, North Indian, Chinese, Bever...   \n",
       "\n",
       "                             area      local address  \n",
       "0                       Bellandur          Bellandur  \n",
       "1  Byresandra,Tavarekere,Madiwala                HSR  \n",
       "2               Bannerghatta Road  Bannerghatta Road  \n",
       "3                    Marathahalli       Marathahalli  \n",
       "4                       Bellandur          Bellandur  "
      ]
     },
     "execution_count": 3,
     "metadata": {},
     "output_type": "execute_result"
    }
   ],
   "source": [
    "data.head()       # head of the dataset"
   ]
  },
  {
   "cell_type": "code",
   "execution_count": 4,
   "id": "9a9731c1",
   "metadata": {},
   "outputs": [
    {
     "data": {
      "text/html": [
       "<div>\n",
       "<style scoped>\n",
       "    .dataframe tbody tr th:only-of-type {\n",
       "        vertical-align: middle;\n",
       "    }\n",
       "\n",
       "    .dataframe tbody tr th {\n",
       "        vertical-align: top;\n",
       "    }\n",
       "\n",
       "    .dataframe thead th {\n",
       "        text-align: right;\n",
       "    }\n",
       "</style>\n",
       "<table border=\"1\" class=\"dataframe\">\n",
       "  <thead>\n",
       "    <tr style=\"text-align: right;\">\n",
       "      <th></th>\n",
       "      <th>Unnamed: 0</th>\n",
       "      <th>Unnamed: 0.1</th>\n",
       "      <th>restaurant name</th>\n",
       "      <th>restaurant type</th>\n",
       "      <th>rate (out of 5)</th>\n",
       "      <th>num of ratings</th>\n",
       "      <th>avg cost (two people)</th>\n",
       "      <th>online_order</th>\n",
       "      <th>table booking</th>\n",
       "      <th>cuisines type</th>\n",
       "      <th>area</th>\n",
       "      <th>local address</th>\n",
       "    </tr>\n",
       "  </thead>\n",
       "  <tbody>\n",
       "    <tr>\n",
       "      <th>7100</th>\n",
       "      <td>7100</td>\n",
       "      <td>7100</td>\n",
       "      <td>Zoey's</td>\n",
       "      <td>Cafe</td>\n",
       "      <td>4.3</td>\n",
       "      <td>894</td>\n",
       "      <td>600.0</td>\n",
       "      <td>Yes</td>\n",
       "      <td>No</td>\n",
       "      <td>Cafe, Italian, Continental, Burger</td>\n",
       "      <td>Bellandur</td>\n",
       "      <td>Sarjapur Road</td>\n",
       "    </tr>\n",
       "    <tr>\n",
       "      <th>7101</th>\n",
       "      <td>7101</td>\n",
       "      <td>7101</td>\n",
       "      <td>ZOROY Luxury Chocolate</td>\n",
       "      <td>Dessert Parlor</td>\n",
       "      <td>4.0</td>\n",
       "      <td>68</td>\n",
       "      <td>250.0</td>\n",
       "      <td>Yes</td>\n",
       "      <td>No</td>\n",
       "      <td>Desserts</td>\n",
       "      <td>Brigade Road</td>\n",
       "      <td>Church Street</td>\n",
       "    </tr>\n",
       "    <tr>\n",
       "      <th>7102</th>\n",
       "      <td>7102</td>\n",
       "      <td>7102</td>\n",
       "      <td>Zu's Doner Kebaps</td>\n",
       "      <td>Takeaway, Delivery</td>\n",
       "      <td>3.7</td>\n",
       "      <td>33</td>\n",
       "      <td>350.0</td>\n",
       "      <td>No</td>\n",
       "      <td>No</td>\n",
       "      <td>Turkish, Fast Food, Biryani, Chinese</td>\n",
       "      <td>Malleshwaram</td>\n",
       "      <td>RT Nagar</td>\n",
       "    </tr>\n",
       "    <tr>\n",
       "      <th>7103</th>\n",
       "      <td>7103</td>\n",
       "      <td>7103</td>\n",
       "      <td>Zyara</td>\n",
       "      <td>Casual Dining</td>\n",
       "      <td>3.8</td>\n",
       "      <td>191</td>\n",
       "      <td>650.0</td>\n",
       "      <td>Yes</td>\n",
       "      <td>No</td>\n",
       "      <td>North Indian, Mughlai, Chinese</td>\n",
       "      <td>Kammanahalli</td>\n",
       "      <td>HBR Layout</td>\n",
       "    </tr>\n",
       "    <tr>\n",
       "      <th>7104</th>\n",
       "      <td>7104</td>\n",
       "      <td>7104</td>\n",
       "      <td>Zyksha</td>\n",
       "      <td>Food Truck</td>\n",
       "      <td>3.4</td>\n",
       "      <td>9</td>\n",
       "      <td>200.0</td>\n",
       "      <td>No</td>\n",
       "      <td>No</td>\n",
       "      <td>Fast Food</td>\n",
       "      <td>Bannerghatta Road</td>\n",
       "      <td>South Bangalore</td>\n",
       "    </tr>\n",
       "  </tbody>\n",
       "</table>\n",
       "</div>"
      ],
      "text/plain": [
       "      Unnamed: 0  Unnamed: 0.1         restaurant name     restaurant type  \\\n",
       "7100        7100          7100                  Zoey's                Cafe   \n",
       "7101        7101          7101  ZOROY Luxury Chocolate      Dessert Parlor   \n",
       "7102        7102          7102       Zu's Doner Kebaps  Takeaway, Delivery   \n",
       "7103        7103          7103                   Zyara       Casual Dining   \n",
       "7104        7104          7104                  Zyksha          Food Truck   \n",
       "\n",
       "      rate (out of 5)  num of ratings  avg cost (two people) online_order  \\\n",
       "7100              4.3             894                  600.0          Yes   \n",
       "7101              4.0              68                  250.0          Yes   \n",
       "7102              3.7              33                  350.0           No   \n",
       "7103              3.8             191                  650.0          Yes   \n",
       "7104              3.4               9                  200.0           No   \n",
       "\n",
       "     table booking                         cuisines type               area  \\\n",
       "7100            No    Cafe, Italian, Continental, Burger          Bellandur   \n",
       "7101            No                              Desserts       Brigade Road   \n",
       "7102            No  Turkish, Fast Food, Biryani, Chinese       Malleshwaram   \n",
       "7103            No        North Indian, Mughlai, Chinese       Kammanahalli   \n",
       "7104            No                             Fast Food  Bannerghatta Road   \n",
       "\n",
       "        local address  \n",
       "7100    Sarjapur Road  \n",
       "7101    Church Street  \n",
       "7102         RT Nagar  \n",
       "7103       HBR Layout  \n",
       "7104  South Bangalore  "
      ]
     },
     "execution_count": 4,
     "metadata": {},
     "output_type": "execute_result"
    }
   ],
   "source": [
    "data.tail()      #. tail of the dataset"
   ]
  },
  {
   "cell_type": "code",
   "execution_count": 5,
   "id": "b4fc4f64",
   "metadata": {},
   "outputs": [
    {
     "data": {
      "text/plain": [
       "Unnamed: 0                 int64\n",
       "Unnamed: 0.1               int64\n",
       "restaurant name           object\n",
       "restaurant type           object\n",
       "rate (out of 5)          float64\n",
       "num of ratings             int64\n",
       "avg cost (two people)    float64\n",
       "online_order              object\n",
       "table booking             object\n",
       "cuisines type             object\n",
       "area                      object\n",
       "local address             object\n",
       "dtype: object"
      ]
     },
     "execution_count": 5,
     "metadata": {},
     "output_type": "execute_result"
    }
   ],
   "source": [
    "data.dtypes      # data types"
   ]
  },
  {
   "cell_type": "code",
   "execution_count": 6,
   "id": "e8ee256d",
   "metadata": {},
   "outputs": [
    {
     "name": "stdout",
     "output_type": "stream",
     "text": [
      "<class 'pandas.core.frame.DataFrame'>\n",
      "RangeIndex: 7105 entries, 0 to 7104\n",
      "Data columns (total 12 columns):\n",
      " #   Column                 Non-Null Count  Dtype  \n",
      "---  ------                 --------------  -----  \n",
      " 0   Unnamed: 0             7105 non-null   int64  \n",
      " 1   Unnamed: 0.1           7105 non-null   int64  \n",
      " 2   restaurant name        7105 non-null   object \n",
      " 3   restaurant type        7105 non-null   object \n",
      " 4   rate (out of 5)        7037 non-null   float64\n",
      " 5   num of ratings         7105 non-null   int64  \n",
      " 6   avg cost (two people)  7048 non-null   float64\n",
      " 7   online_order           7105 non-null   object \n",
      " 8   table booking          7105 non-null   object \n",
      " 9   cuisines type          7105 non-null   object \n",
      " 10  area                   7105 non-null   object \n",
      " 11  local address          7105 non-null   object \n",
      "dtypes: float64(2), int64(3), object(7)\n",
      "memory usage: 666.2+ KB\n"
     ]
    }
   ],
   "source": [
    "data.info()      # information of the dataset"
   ]
  },
  {
   "cell_type": "code",
   "execution_count": 7,
   "id": "ffac21d6",
   "metadata": {},
   "outputs": [
    {
     "data": {
      "text/plain": [
       "(7105, 12)"
      ]
     },
     "execution_count": 7,
     "metadata": {},
     "output_type": "execute_result"
    }
   ],
   "source": [
    "data.shape    # shape of the dataset"
   ]
  },
  {
   "cell_type": "code",
   "execution_count": 8,
   "id": "bd2ff014",
   "metadata": {},
   "outputs": [
    {
     "data": {
      "text/html": [
       "<div>\n",
       "<style scoped>\n",
       "    .dataframe tbody tr th:only-of-type {\n",
       "        vertical-align: middle;\n",
       "    }\n",
       "\n",
       "    .dataframe tbody tr th {\n",
       "        vertical-align: top;\n",
       "    }\n",
       "\n",
       "    .dataframe thead th {\n",
       "        text-align: right;\n",
       "    }\n",
       "</style>\n",
       "<table border=\"1\" class=\"dataframe\">\n",
       "  <thead>\n",
       "    <tr style=\"text-align: right;\">\n",
       "      <th></th>\n",
       "      <th>Unnamed: 0</th>\n",
       "      <th>Unnamed: 0.1</th>\n",
       "      <th>rate (out of 5)</th>\n",
       "      <th>num of ratings</th>\n",
       "      <th>avg cost (two people)</th>\n",
       "    </tr>\n",
       "  </thead>\n",
       "  <tbody>\n",
       "    <tr>\n",
       "      <th>count</th>\n",
       "      <td>7105.000000</td>\n",
       "      <td>7105.000000</td>\n",
       "      <td>7037.000000</td>\n",
       "      <td>7105.000000</td>\n",
       "      <td>7048.000000</td>\n",
       "    </tr>\n",
       "    <tr>\n",
       "      <th>mean</th>\n",
       "      <td>3552.000000</td>\n",
       "      <td>3552.000000</td>\n",
       "      <td>3.514253</td>\n",
       "      <td>188.921042</td>\n",
       "      <td>540.286464</td>\n",
       "    </tr>\n",
       "    <tr>\n",
       "      <th>std</th>\n",
       "      <td>2051.181164</td>\n",
       "      <td>2051.181164</td>\n",
       "      <td>0.463249</td>\n",
       "      <td>592.171049</td>\n",
       "      <td>462.902305</td>\n",
       "    </tr>\n",
       "    <tr>\n",
       "      <th>min</th>\n",
       "      <td>0.000000</td>\n",
       "      <td>0.000000</td>\n",
       "      <td>1.800000</td>\n",
       "      <td>1.000000</td>\n",
       "      <td>40.000000</td>\n",
       "    </tr>\n",
       "    <tr>\n",
       "      <th>25%</th>\n",
       "      <td>1776.000000</td>\n",
       "      <td>1776.000000</td>\n",
       "      <td>3.200000</td>\n",
       "      <td>16.000000</td>\n",
       "      <td>300.000000</td>\n",
       "    </tr>\n",
       "    <tr>\n",
       "      <th>50%</th>\n",
       "      <td>3552.000000</td>\n",
       "      <td>3552.000000</td>\n",
       "      <td>3.500000</td>\n",
       "      <td>40.000000</td>\n",
       "      <td>400.000000</td>\n",
       "    </tr>\n",
       "    <tr>\n",
       "      <th>75%</th>\n",
       "      <td>5328.000000</td>\n",
       "      <td>5328.000000</td>\n",
       "      <td>3.800000</td>\n",
       "      <td>128.000000</td>\n",
       "      <td>600.000000</td>\n",
       "    </tr>\n",
       "    <tr>\n",
       "      <th>max</th>\n",
       "      <td>7104.000000</td>\n",
       "      <td>7104.000000</td>\n",
       "      <td>4.900000</td>\n",
       "      <td>16345.000000</td>\n",
       "      <td>6000.000000</td>\n",
       "    </tr>\n",
       "  </tbody>\n",
       "</table>\n",
       "</div>"
      ],
      "text/plain": [
       "        Unnamed: 0  Unnamed: 0.1  rate (out of 5)  num of ratings  \\\n",
       "count  7105.000000   7105.000000      7037.000000     7105.000000   \n",
       "mean   3552.000000   3552.000000         3.514253      188.921042   \n",
       "std    2051.181164   2051.181164         0.463249      592.171049   \n",
       "min       0.000000      0.000000         1.800000        1.000000   \n",
       "25%    1776.000000   1776.000000         3.200000       16.000000   \n",
       "50%    3552.000000   3552.000000         3.500000       40.000000   \n",
       "75%    5328.000000   5328.000000         3.800000      128.000000   \n",
       "max    7104.000000   7104.000000         4.900000    16345.000000   \n",
       "\n",
       "       avg cost (two people)  \n",
       "count            7048.000000  \n",
       "mean              540.286464  \n",
       "std               462.902305  \n",
       "min                40.000000  \n",
       "25%               300.000000  \n",
       "50%               400.000000  \n",
       "75%               600.000000  \n",
       "max              6000.000000  "
      ]
     },
     "execution_count": 8,
     "metadata": {},
     "output_type": "execute_result"
    }
   ],
   "source": [
    "data.describe()       # statistics of the dataset"
   ]
  },
  {
   "cell_type": "code",
   "execution_count": 9,
   "id": "018e96e4",
   "metadata": {},
   "outputs": [
    {
     "data": {
      "text/plain": [
       "Unnamed: 0                0\n",
       "Unnamed: 0.1              0\n",
       "restaurant name           0\n",
       "restaurant type           0\n",
       "rate (out of 5)          68\n",
       "num of ratings            0\n",
       "avg cost (two people)    57\n",
       "online_order              0\n",
       "table booking             0\n",
       "cuisines type             0\n",
       "area                      0\n",
       "local address             0\n",
       "dtype: int64"
      ]
     },
     "execution_count": 9,
     "metadata": {},
     "output_type": "execute_result"
    }
   ],
   "source": [
    "data.isnull().sum()    # null values of the dataset"
   ]
  },
  {
   "cell_type": "markdown",
   "id": "32857c34",
   "metadata": {},
   "source": [
    "# Data Cleaning "
   ]
  },
  {
   "cell_type": "code",
   "execution_count": 10,
   "id": "65859cfc",
   "metadata": {},
   "outputs": [],
   "source": [
    "data['rate (out of 5)'].fillna(3.5, inplace= True)         # fill the null values\n",
    "data['avg cost (two people)'].fillna(300, inplace= True)"
   ]
  },
  {
   "cell_type": "code",
   "execution_count": 11,
   "id": "2e85912b",
   "metadata": {},
   "outputs": [],
   "source": [
    "data.drop(['Unnamed: 0', 'Unnamed: 0.1'], axis=1, inplace=True)    # drop the null values"
   ]
  },
  {
   "cell_type": "code",
   "execution_count": 12,
   "id": "6fe2dc0d",
   "metadata": {},
   "outputs": [
    {
     "data": {
      "text/html": [
       "<div>\n",
       "<style scoped>\n",
       "    .dataframe tbody tr th:only-of-type {\n",
       "        vertical-align: middle;\n",
       "    }\n",
       "\n",
       "    .dataframe tbody tr th {\n",
       "        vertical-align: top;\n",
       "    }\n",
       "\n",
       "    .dataframe thead th {\n",
       "        text-align: right;\n",
       "    }\n",
       "</style>\n",
       "<table border=\"1\" class=\"dataframe\">\n",
       "  <thead>\n",
       "    <tr style=\"text-align: right;\">\n",
       "      <th></th>\n",
       "      <th>restaurant name</th>\n",
       "      <th>restaurant type</th>\n",
       "      <th>rate (out of 5)</th>\n",
       "      <th>num of ratings</th>\n",
       "      <th>avg cost (two people)</th>\n",
       "      <th>online_order</th>\n",
       "      <th>table booking</th>\n",
       "      <th>cuisines type</th>\n",
       "      <th>area</th>\n",
       "      <th>local address</th>\n",
       "    </tr>\n",
       "  </thead>\n",
       "  <tbody>\n",
       "    <tr>\n",
       "      <th>4025</th>\n",
       "      <td>Mother Nature Kulfi</td>\n",
       "      <td>Dessert Parlor</td>\n",
       "      <td>3.6</td>\n",
       "      <td>10</td>\n",
       "      <td>200.0</td>\n",
       "      <td>No</td>\n",
       "      <td>No</td>\n",
       "      <td>Desserts, Ice Cream</td>\n",
       "      <td>Byresandra,Tavarekere,Madiwala</td>\n",
       "      <td>Jayanagar</td>\n",
       "    </tr>\n",
       "    <tr>\n",
       "      <th>1324</th>\n",
       "      <td>Charcoal Eats</td>\n",
       "      <td>Quick Bites</td>\n",
       "      <td>4.0</td>\n",
       "      <td>54</td>\n",
       "      <td>500.0</td>\n",
       "      <td>Yes</td>\n",
       "      <td>No</td>\n",
       "      <td>Mughlai, Biryani, Fast Food</td>\n",
       "      <td>HSR</td>\n",
       "      <td>HSR</td>\n",
       "    </tr>\n",
       "    <tr>\n",
       "      <th>5331</th>\n",
       "      <td>Seekers Cafe</td>\n",
       "      <td>Casual Dining</td>\n",
       "      <td>3.6</td>\n",
       "      <td>25</td>\n",
       "      <td>500.0</td>\n",
       "      <td>No</td>\n",
       "      <td>No</td>\n",
       "      <td>Italian, Continental</td>\n",
       "      <td>Byresandra,Tavarekere,Madiwala</td>\n",
       "      <td>BTM</td>\n",
       "    </tr>\n",
       "    <tr>\n",
       "      <th>157</th>\n",
       "      <td>Adyar Ananda Bhavan Sweets</td>\n",
       "      <td>Takeaway, Delivery</td>\n",
       "      <td>3.6</td>\n",
       "      <td>4</td>\n",
       "      <td>200.0</td>\n",
       "      <td>Yes</td>\n",
       "      <td>No</td>\n",
       "      <td>Mithai, Desserts</td>\n",
       "      <td>JP Nagar</td>\n",
       "      <td>JP Nagar</td>\n",
       "    </tr>\n",
       "    <tr>\n",
       "      <th>3638</th>\n",
       "      <td>Loveshack</td>\n",
       "      <td>Lounge, Cafe</td>\n",
       "      <td>3.9</td>\n",
       "      <td>1717</td>\n",
       "      <td>1600.0</td>\n",
       "      <td>No</td>\n",
       "      <td>Yes</td>\n",
       "      <td>Continental, Pizza, North Indian, Goan, Burger...</td>\n",
       "      <td>Indiranagar</td>\n",
       "      <td>Domlur</td>\n",
       "    </tr>\n",
       "  </tbody>\n",
       "</table>\n",
       "</div>"
      ],
      "text/plain": [
       "                 restaurant name     restaurant type  rate (out of 5)  \\\n",
       "4025         Mother Nature Kulfi      Dessert Parlor              3.6   \n",
       "1324               Charcoal Eats         Quick Bites              4.0   \n",
       "5331                Seekers Cafe       Casual Dining              3.6   \n",
       "157   Adyar Ananda Bhavan Sweets  Takeaway, Delivery              3.6   \n",
       "3638                   Loveshack        Lounge, Cafe              3.9   \n",
       "\n",
       "      num of ratings  avg cost (two people) online_order table booking  \\\n",
       "4025              10                  200.0           No            No   \n",
       "1324              54                  500.0          Yes            No   \n",
       "5331              25                  500.0           No            No   \n",
       "157                4                  200.0          Yes            No   \n",
       "3638            1717                 1600.0           No           Yes   \n",
       "\n",
       "                                          cuisines type  \\\n",
       "4025                                Desserts, Ice Cream   \n",
       "1324                        Mughlai, Biryani, Fast Food   \n",
       "5331                               Italian, Continental   \n",
       "157                                    Mithai, Desserts   \n",
       "3638  Continental, Pizza, North Indian, Goan, Burger...   \n",
       "\n",
       "                                area local address  \n",
       "4025  Byresandra,Tavarekere,Madiwala     Jayanagar  \n",
       "1324                             HSR           HSR  \n",
       "5331  Byresandra,Tavarekere,Madiwala           BTM  \n",
       "157                         JP Nagar      JP Nagar  \n",
       "3638                     Indiranagar        Domlur  "
      ]
     },
     "execution_count": 12,
     "metadata": {},
     "output_type": "execute_result"
    }
   ],
   "source": [
    "data.sample(5)      # sample of the dataset "
   ]
  },
  {
   "cell_type": "code",
   "execution_count": 13,
   "id": "cf4329eb",
   "metadata": {},
   "outputs": [
    {
     "data": {
      "text/html": [
       "<div>\n",
       "<style scoped>\n",
       "    .dataframe tbody tr th:only-of-type {\n",
       "        vertical-align: middle;\n",
       "    }\n",
       "\n",
       "    .dataframe tbody tr th {\n",
       "        vertical-align: top;\n",
       "    }\n",
       "\n",
       "    .dataframe thead th {\n",
       "        text-align: right;\n",
       "    }\n",
       "</style>\n",
       "<table border=\"1\" class=\"dataframe\">\n",
       "  <thead>\n",
       "    <tr style=\"text-align: right;\">\n",
       "      <th></th>\n",
       "      <th>rate (out of 5)</th>\n",
       "      <th>num of ratings</th>\n",
       "      <th>avg cost (two people)</th>\n",
       "    </tr>\n",
       "  </thead>\n",
       "  <tbody>\n",
       "    <tr>\n",
       "      <th>rate (out of 5)</th>\n",
       "      <td>1.000000</td>\n",
       "      <td>0.380215</td>\n",
       "      <td>0.373894</td>\n",
       "    </tr>\n",
       "    <tr>\n",
       "      <th>num of ratings</th>\n",
       "      <td>0.380215</td>\n",
       "      <td>1.000000</td>\n",
       "      <td>0.340286</td>\n",
       "    </tr>\n",
       "    <tr>\n",
       "      <th>avg cost (two people)</th>\n",
       "      <td>0.373894</td>\n",
       "      <td>0.340286</td>\n",
       "      <td>1.000000</td>\n",
       "    </tr>\n",
       "  </tbody>\n",
       "</table>\n",
       "</div>"
      ],
      "text/plain": [
       "                       rate (out of 5)  num of ratings  avg cost (two people)\n",
       "rate (out of 5)               1.000000        0.380215               0.373894\n",
       "num of ratings                0.380215        1.000000               0.340286\n",
       "avg cost (two people)         0.373894        0.340286               1.000000"
      ]
     },
     "execution_count": 13,
     "metadata": {},
     "output_type": "execute_result"
    }
   ],
   "source": [
    "data.corr()   # correlation of the dataset"
   ]
  },
  {
   "cell_type": "code",
   "execution_count": 14,
   "id": "1b108f02",
   "metadata": {},
   "outputs": [
    {
     "data": {
      "text/plain": [
       "0       False\n",
       "1       False\n",
       "2       False\n",
       "3       False\n",
       "4       False\n",
       "        ...  \n",
       "7100    False\n",
       "7101    False\n",
       "7102    False\n",
       "7103    False\n",
       "7104    False\n",
       "Length: 7105, dtype: bool"
      ]
     },
     "execution_count": 14,
     "metadata": {},
     "output_type": "execute_result"
    }
   ],
   "source": [
    "data.duplicated()      # duplicate in the dataset"
   ]
  },
  {
   "cell_type": "markdown",
   "id": "91815c92",
   "metadata": {},
   "source": [
    "# Data Visualisation "
   ]
  },
  {
   "cell_type": "code",
   "execution_count": 15,
   "id": "17f38eff",
   "metadata": {},
   "outputs": [],
   "source": [
    "import matplotlib.pyplot as plt        # import libraries \n",
    "import seaborn as sns"
   ]
  },
  {
   "cell_type": "code",
   "execution_count": 18,
   "id": "ea94b42f",
   "metadata": {},
   "outputs": [
    {
     "data": {
      "image/png": "[encoded data removed]",
      "text/plain": [
       "<Figure size 432x288 with 1 Axes>"
      ]
     },
     "metadata": {
      "needs_background": "light"
     },
     "output_type": "display_data"
    }
   ],
   "source": [
    "# Top 10 areas of restaurants \n",
    "\n",
    "data[\"area\"].value_counts().head(10).plot(kind=\"bar\", xlabel=\"area\", ylabel=\"Count\", \n",
    "                                          title=\"Top 10 Areas of Restaurants\", color='green')\n",
    "plt.xticks(rotation=85)\n",
    "plt.show()"
   ]
  },
  {
   "cell_type": "code",
   "execution_count": 19,
   "id": "df3800d6",
   "metadata": {},
   "outputs": [
    {
     "data": {
      "image/png": "[encoded data removed]",
      "text/plain": [
       "<Figure size 432x288 with 1 Axes>"
      ]
     },
     "metadata": {
      "needs_background": "light"
     },
     "output_type": "display_data"
    }
   ],
   "source": [
    "# Top cuisine type\n",
    "\n",
    "data[\"cuisines type\"].value_counts().head(10).plot(kind=\"bar\", xlabel=\"Area\", ylabel=\"Count\", \n",
    "                                          title=\"Top Cuisines type\")\n",
    "plt.xticks(rotation=85)\n",
    "plt.show()"
   ]
  },
  {
   "cell_type": "code",
   "execution_count": 21,
   "id": "a8d706cb",
   "metadata": {},
   "outputs": [
    {
     "data": {
      "image/png": "[encoded data removed]",
      "text/plain": [
       "<Figure size 432x288 with 1 Axes>"
      ]
     },
     "metadata": {},
     "output_type": "display_data"
    }
   ],
   "source": [
    "# Online bookings\n",
    "\n",
    "online_order_counts = data['online_order'].value_counts()\n",
    "labels = online_order_counts.index\n",
    "counts = online_order_counts.values\n",
    "colors = ['salmon', 'lightblue'] \n",
    "\n",
    "plt.pie(counts, labels=labels, autopct='%1.1f%%', startangle=90, colors=colors)\n",
    "plt.title('Booking Online')\n",
    "plt.axis('equal')\n",
    "plt.show()"
   ]
  },
  {
   "cell_type": "code",
   "execution_count": 22,
   "id": "9ac8efd0",
   "metadata": {},
   "outputs": [
    {
     "data": {
      "image/png": "[encoded data removed]",
      "text/plain": [
       "<Figure size 432x288 with 1 Axes>"
      ]
     },
     "metadata": {},
     "output_type": "display_data"
    }
   ],
   "source": [
    "# Booking of tables \n",
    "\n",
    "table_booking_counts = data['table booking'].value_counts()\n",
    "labels = table_booking_counts.index\n",
    "counts = table_booking_counts.values\n",
    "colors = ['green', 'yellow'] \n",
    "\n",
    "plt.pie(counts, labels=labels, autopct='%1.1f%%', startangle=90,colors=colors)\n",
    "plt.title('Booking of Tables')\n",
    "plt.axis('equal')\n",
    "plt.show()"
   ]
  },
  {
   "cell_type": "code",
   "execution_count": 23,
   "id": "7ad3ea1a",
   "metadata": {},
   "outputs": [
    {
     "data": {
      "image/png": "[encoded data removed]",
      "text/plain": [
       "<Figure size 432x288 with 1 Axes>"
      ]
     },
     "metadata": {
      "needs_background": "light"
     },
     "output_type": "display_data"
    }
   ],
   "source": [
    "# Histogram for Rating analysis \n",
    "\n",
    "plt.hist(data['rate (out of 5)'], bins=10, color='skyblue', edgecolor='black')\n",
    "\n",
    "plt.xlabel('Rate (out of 5)')\n",
    "plt.ylabel('Frequency')\n",
    "plt.title('Rating Analysis')\n",
    "plt.show()"
   ]
  },
  {
   "cell_type": "code",
   "execution_count": 24,
   "id": "f54e5b4e",
   "metadata": {},
   "outputs": [
    {
     "data": {
      "image/png": "[encoded data removed]",
      "text/plain": [
       "<Figure size 432x288 with 1 Axes>"
      ]
     },
     "metadata": {
      "needs_background": "light"
     },
     "output_type": "display_data"
    }
   ],
   "source": [
    "# Scatter plot of Average cost of Two person\n",
    "\n",
    "plt.scatter(data['rate (out of 5)'], data['avg cost (two people)'], color='green', marker='o')\n",
    "\n",
    "plt.xlabel('Rate (out of 5)')\n",
    "plt.ylabel('Average Cost of Two People')\n",
    "plt.title('Scatter Plot')\n",
    "plt.show()"
   ]
  },
  {
   "cell_type": "markdown",
   "id": "aab22bbe",
   "metadata": {},
   "source": [
    "# Types of Restaurants "
   ]
  },
  {
   "cell_type": "code",
   "execution_count": 25,
   "id": "a9126a59",
   "metadata": {},
   "outputs": [
    {
     "name": "stdout",
     "output_type": "stream",
     "text": [
      "Quick Bites           2840\n",
      "Casual Dining         1634\n",
      "Cafe                   403\n",
      "Delivery               358\n",
      "Takeaway, Delivery     289\n",
      "Name: restaurant type, dtype: int64\n"
     ]
    }
   ],
   "source": [
    "rest_type= data['restaurant type'].value_counts().head(5)\n",
    "print(rest_type)"
   ]
  },
  {
   "cell_type": "code",
   "execution_count": 26,
   "id": "e0082be9",
   "metadata": {},
   "outputs": [
    {
     "data": {
      "image/png": "[encoded data removed]",
      "text/plain": [
       "<Figure size 432x288 with 1 Axes>"
      ]
     },
     "metadata": {},
     "output_type": "display_data"
    }
   ],
   "source": [
    "labels = ['Quick Bites', 'Casual Dining', 'Cafe', 'Delivery', 'Takeaway, Delivery']\n",
    "colors = ['skyblue', 'lightgreen', 'orange', 'salmon', 'yellow']\n",
    "\n",
    "plt.pie(rest_type, labels=labels, autopct='%1.1f%%', startangle= 60, colors=colors)\n",
    "plt.title('Types of Restaurant')\n",
    "plt.axis('equal')\n",
    "plt.show()"
   ]
  }
 ],
 "metadata": {
  "kernelspec": {
   "display_name": "Python 3",
   "language": "python",
   "name": "python3"
  },
  "language_info": {
   "codemirror_mode": {
    "name": "ipython",
    "version": 3
   },
   "file_extension": ".py",
   "mimetype": "text/x-python",
   "name": "python",
   "nbconvert_exporter": "python",
   "pygments_lexer": "ipython3",
   "version": "3.8.8"
  }
 },
 "nbformat": 4,
 "nbformat_minor": 5
}
